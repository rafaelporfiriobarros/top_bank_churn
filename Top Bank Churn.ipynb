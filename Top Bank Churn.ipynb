{
 "cells": [
  {
   "cell_type": "markdown",
   "id": "24912d1c",
   "metadata": {},
   "source": [
    "# Top Bank EDA / ML"
   ]
  },
  {
   "cell_type": "markdown",
   "id": "31df77ce",
   "metadata": {},
   "source": [
    "- RowNumber: O número da coluna\n",
    "- CustomerID: Identificador único do cliente\n",
    "- Surname: Sobrenome do cliente.\n",
    "- CreditScore: A pontuação de Crédito do cliente para o mercado de consumo.\n",
    "- Geography: O país onde o cliente reside.\n",
    "- Gender: O gênero do cliente.\n",
    "- Age: A idade do cliente.\n",
    "- Tenure: Número de anos que o cliente permaneceu ativo.\n",
    "- Balance: Valor monetário que o cliente tem em sua conta bancária.\n",
    "- NumOfProducts: O número de produtos comprado pelo cliente no banco.\n",
    "- HasCrCard: Indica se o cliente possui ou não cartão de crédito.\n",
    "- IsActiveMember: Indica se o cliente fez pelo menos uma movimentação na conta bancário dentro de 12 meses.\n",
    "- EstimateSalary: Estimativa do salário mensal do cliente.\n",
    "- Exited: Indica se o cliente está ou não em Churn.\n",
    "\n",
    "### Preveja se os clientes podem se desligar no futuro do Top Bank"
   ]
  },
  {
   "cell_type": "markdown",
   "id": "12123038",
   "metadata": {},
   "source": [
    "- ## Importando os pacotes necessários"
   ]
  },
  {
   "cell_type": "code",
   "execution_count": 33,
   "id": "290de293",
   "metadata": {},
   "outputs": [],
   "source": [
    "import pandas as pd\n",
    "import numpy as np\n",
    "import seaborn as sns\n",
    "import matplotlib.pyplot as plt\n",
    "from matplotlib import pyplot\n",
    "pd.set_option('display.float_format','{:.2f}'.format)\n",
    "from sklearn.model_selection import train_test_split\n",
    "from sklearn.neighbors import KNeighborsClassifier\n",
    "from sklearn.tree import DecisionTreeClassifier\n",
    "from sklearn.ensemble import RandomForestClassifier\n",
    "from sklearn.naive_bayes import GaussianNB\n",
    "from sklearn.svm import SVC\n",
    "from sklearn.model_selection import KFold\n",
    "from sklearn.model_selection import cross_val_score"
   ]
  },
  {
   "cell_type": "markdown",
   "id": "2c4c938a",
   "metadata": {},
   "source": [
    "- ## Carregando os dados"
   ]
  },
  {
   "cell_type": "code",
   "execution_count": 2,
   "id": "4d09dd98",
   "metadata": {},
   "outputs": [
    {
     "data": {
      "text/html": [
       "<div>\n",
       "<style scoped>\n",
       "    .dataframe tbody tr th:only-of-type {\n",
       "        vertical-align: middle;\n",
       "    }\n",
       "\n",
       "    .dataframe tbody tr th {\n",
       "        vertical-align: top;\n",
       "    }\n",
       "\n",
       "    .dataframe thead th {\n",
       "        text-align: right;\n",
       "    }\n",
       "</style>\n",
       "<table border=\"1\" class=\"dataframe\">\n",
       "  <thead>\n",
       "    <tr style=\"text-align: right;\">\n",
       "      <th></th>\n",
       "      <th>RowNumber</th>\n",
       "      <th>CustomerId</th>\n",
       "      <th>Surname</th>\n",
       "      <th>CreditScore</th>\n",
       "      <th>Geography</th>\n",
       "      <th>Gender</th>\n",
       "      <th>Age</th>\n",
       "      <th>Tenure</th>\n",
       "      <th>Balance</th>\n",
       "      <th>NumOfProducts</th>\n",
       "      <th>HasCrCard</th>\n",
       "      <th>IsActiveMember</th>\n",
       "      <th>EstimatedSalary</th>\n",
       "      <th>Exited</th>\n",
       "    </tr>\n",
       "  </thead>\n",
       "  <tbody>\n",
       "    <tr>\n",
       "      <th>0</th>\n",
       "      <td>1</td>\n",
       "      <td>15634602</td>\n",
       "      <td>Hargrave</td>\n",
       "      <td>619</td>\n",
       "      <td>France</td>\n",
       "      <td>Female</td>\n",
       "      <td>42</td>\n",
       "      <td>2</td>\n",
       "      <td>0.00</td>\n",
       "      <td>1</td>\n",
       "      <td>1</td>\n",
       "      <td>1</td>\n",
       "      <td>101348.88</td>\n",
       "      <td>1</td>\n",
       "    </tr>\n",
       "    <tr>\n",
       "      <th>1</th>\n",
       "      <td>2</td>\n",
       "      <td>15647311</td>\n",
       "      <td>Hill</td>\n",
       "      <td>608</td>\n",
       "      <td>Spain</td>\n",
       "      <td>Female</td>\n",
       "      <td>41</td>\n",
       "      <td>1</td>\n",
       "      <td>83807.86</td>\n",
       "      <td>1</td>\n",
       "      <td>0</td>\n",
       "      <td>1</td>\n",
       "      <td>112542.58</td>\n",
       "      <td>0</td>\n",
       "    </tr>\n",
       "    <tr>\n",
       "      <th>2</th>\n",
       "      <td>3</td>\n",
       "      <td>15619304</td>\n",
       "      <td>Onio</td>\n",
       "      <td>502</td>\n",
       "      <td>France</td>\n",
       "      <td>Female</td>\n",
       "      <td>42</td>\n",
       "      <td>8</td>\n",
       "      <td>159660.80</td>\n",
       "      <td>3</td>\n",
       "      <td>1</td>\n",
       "      <td>0</td>\n",
       "      <td>113931.57</td>\n",
       "      <td>1</td>\n",
       "    </tr>\n",
       "    <tr>\n",
       "      <th>3</th>\n",
       "      <td>4</td>\n",
       "      <td>15701354</td>\n",
       "      <td>Boni</td>\n",
       "      <td>699</td>\n",
       "      <td>France</td>\n",
       "      <td>Female</td>\n",
       "      <td>39</td>\n",
       "      <td>1</td>\n",
       "      <td>0.00</td>\n",
       "      <td>2</td>\n",
       "      <td>0</td>\n",
       "      <td>0</td>\n",
       "      <td>93826.63</td>\n",
       "      <td>0</td>\n",
       "    </tr>\n",
       "    <tr>\n",
       "      <th>4</th>\n",
       "      <td>5</td>\n",
       "      <td>15737888</td>\n",
       "      <td>Mitchell</td>\n",
       "      <td>850</td>\n",
       "      <td>Spain</td>\n",
       "      <td>Female</td>\n",
       "      <td>43</td>\n",
       "      <td>2</td>\n",
       "      <td>125510.82</td>\n",
       "      <td>1</td>\n",
       "      <td>1</td>\n",
       "      <td>1</td>\n",
       "      <td>79084.10</td>\n",
       "      <td>0</td>\n",
       "    </tr>\n",
       "  </tbody>\n",
       "</table>\n",
       "</div>"
      ],
      "text/plain": [
       "   RowNumber  CustomerId   Surname  CreditScore Geography  Gender  Age  \\\n",
       "0          1    15634602  Hargrave          619    France  Female   42   \n",
       "1          2    15647311      Hill          608     Spain  Female   41   \n",
       "2          3    15619304      Onio          502    France  Female   42   \n",
       "3          4    15701354      Boni          699    France  Female   39   \n",
       "4          5    15737888  Mitchell          850     Spain  Female   43   \n",
       "\n",
       "   Tenure   Balance  NumOfProducts  HasCrCard  IsActiveMember  \\\n",
       "0       2      0.00              1          1               1   \n",
       "1       1  83807.86              1          0               1   \n",
       "2       8 159660.80              3          1               0   \n",
       "3       1      0.00              2          0               0   \n",
       "4       2 125510.82              1          1               1   \n",
       "\n",
       "   EstimatedSalary  Exited  \n",
       "0        101348.88       1  \n",
       "1        112542.58       0  \n",
       "2        113931.57       1  \n",
       "3         93826.63       0  \n",
       "4         79084.10       0  "
      ]
     },
     "execution_count": 2,
     "metadata": {},
     "output_type": "execute_result"
    }
   ],
   "source": [
    "df = pd.read_csv('churn.csv')\n",
    "df.head()"
   ]
  },
  {
   "cell_type": "markdown",
   "id": "71c9bd05",
   "metadata": {},
   "source": [
    "- ## Exploratory Data Analysis (EDA)"
   ]
  },
  {
   "cell_type": "code",
   "execution_count": 3,
   "id": "d4b22b28",
   "metadata": {},
   "outputs": [
    {
     "name": "stdout",
     "output_type": "stream",
     "text": [
      "Infos Data Frame\n",
      "\n",
      "Shape:\n",
      "(10000, 14)\n",
      "<class 'pandas.core.frame.DataFrame'>\n",
      "RangeIndex: 10000 entries, 0 to 9999\n",
      "Data columns (total 14 columns):\n",
      " #   Column           Non-Null Count  Dtype  \n",
      "---  ------           --------------  -----  \n",
      " 0   RowNumber        10000 non-null  int64  \n",
      " 1   CustomerId       10000 non-null  int64  \n",
      " 2   Surname          10000 non-null  object \n",
      " 3   CreditScore      10000 non-null  int64  \n",
      " 4   Geography        10000 non-null  object \n",
      " 5   Gender           10000 non-null  object \n",
      " 6   Age              10000 non-null  int64  \n",
      " 7   Tenure           10000 non-null  int64  \n",
      " 8   Balance          10000 non-null  float64\n",
      " 9   NumOfProducts    10000 non-null  int64  \n",
      " 10  HasCrCard        10000 non-null  int64  \n",
      " 11  IsActiveMember   10000 non-null  int64  \n",
      " 12  EstimatedSalary  10000 non-null  float64\n",
      " 13  Exited           10000 non-null  int64  \n",
      "dtypes: float64(2), int64(9), object(3)\n",
      "memory usage: 1.1+ MB\n",
      "\n",
      "Info:\n",
      "None\n",
      "\n",
      "Is Null: 0\n",
      "RowNumber         0.00\n",
      "CustomerId        0.00\n",
      "Surname           0.00\n",
      "CreditScore       0.00\n",
      "Geography         0.00\n",
      "Gender            0.00\n",
      "Age               0.00\n",
      "Tenure            0.00\n",
      "Balance           0.00\n",
      "NumOfProducts     0.00\n",
      "HasCrCard         0.00\n",
      "IsActiveMember    0.00\n",
      "EstimatedSalary   0.00\n",
      "Exited            0.00\n",
      "dtype: float64\n",
      "\n",
      "Duplicated: \n",
      "(0, 14)\n",
      "\n"
     ]
    }
   ],
   "source": [
    "def infos(dfA, all = False, desc = 'Infos Data Frame'):\n",
    "    print(desc)\n",
    "    print(f'\\nShape:\\n{dfA.shape}')\n",
    "    print(f'\\nInfo:\\n{dfA.info()}')\n",
    "    print(f'\\nIs Null: {dfA.isnull().sum().sum()}')\n",
    "    print(f'{dfA.isnull().mean().sort_values(ascending = False)}')\n",
    "    dup = dfA.duplicated()\n",
    "    print(f'\\nDuplicated: \\n{dfA[dup].shape}\\n')\n",
    "    try:\n",
    "        print(dfA[dfA.duplicated(keep = False)].sample(4))\n",
    "    except:\n",
    "        pass\n",
    "    if all:\n",
    "        print(f'\\nDTypes - Numerics')\n",
    "        print(dfA.describe(include = [np.number]))\n",
    "        print(f'\\nDTypes - Categoricals')\n",
    "        print(dfA.describe(include = ['object']))\n",
    "        \n",
    "        print(f'\\nHead:\\n{dfA.head()}')\n",
    "        print(f'\\nSamples:\\n{dfA.sample(2)}')\n",
    "        print(f'\\nTail:\\n{dfA.tail()}')\n",
    "\n",
    "infos(df)"
   ]
  },
  {
   "cell_type": "markdown",
   "id": "860b8b73",
   "metadata": {},
   "source": [
    "- ## Exclusão de colunas desnecessárias"
   ]
  },
  {
   "cell_type": "code",
   "execution_count": 4,
   "id": "4be5454b",
   "metadata": {},
   "outputs": [
    {
     "data": {
      "text/html": [
       "<div>\n",
       "<style scoped>\n",
       "    .dataframe tbody tr th:only-of-type {\n",
       "        vertical-align: middle;\n",
       "    }\n",
       "\n",
       "    .dataframe tbody tr th {\n",
       "        vertical-align: top;\n",
       "    }\n",
       "\n",
       "    .dataframe thead th {\n",
       "        text-align: right;\n",
       "    }\n",
       "</style>\n",
       "<table border=\"1\" class=\"dataframe\">\n",
       "  <thead>\n",
       "    <tr style=\"text-align: right;\">\n",
       "      <th></th>\n",
       "      <th>CustomerId</th>\n",
       "      <th>Surname</th>\n",
       "      <th>CreditScore</th>\n",
       "      <th>Geography</th>\n",
       "      <th>Gender</th>\n",
       "      <th>Age</th>\n",
       "      <th>Tenure</th>\n",
       "      <th>Balance</th>\n",
       "      <th>NumOfProducts</th>\n",
       "      <th>HasCrCard</th>\n",
       "      <th>IsActiveMember</th>\n",
       "      <th>EstimatedSalary</th>\n",
       "      <th>Exited</th>\n",
       "    </tr>\n",
       "  </thead>\n",
       "  <tbody>\n",
       "    <tr>\n",
       "      <th>0</th>\n",
       "      <td>15634602</td>\n",
       "      <td>Hargrave</td>\n",
       "      <td>619</td>\n",
       "      <td>France</td>\n",
       "      <td>Female</td>\n",
       "      <td>42</td>\n",
       "      <td>2</td>\n",
       "      <td>0.00</td>\n",
       "      <td>1</td>\n",
       "      <td>1</td>\n",
       "      <td>1</td>\n",
       "      <td>101348.88</td>\n",
       "      <td>1</td>\n",
       "    </tr>\n",
       "    <tr>\n",
       "      <th>1</th>\n",
       "      <td>15647311</td>\n",
       "      <td>Hill</td>\n",
       "      <td>608</td>\n",
       "      <td>Spain</td>\n",
       "      <td>Female</td>\n",
       "      <td>41</td>\n",
       "      <td>1</td>\n",
       "      <td>83807.86</td>\n",
       "      <td>1</td>\n",
       "      <td>0</td>\n",
       "      <td>1</td>\n",
       "      <td>112542.58</td>\n",
       "      <td>0</td>\n",
       "    </tr>\n",
       "    <tr>\n",
       "      <th>2</th>\n",
       "      <td>15619304</td>\n",
       "      <td>Onio</td>\n",
       "      <td>502</td>\n",
       "      <td>France</td>\n",
       "      <td>Female</td>\n",
       "      <td>42</td>\n",
       "      <td>8</td>\n",
       "      <td>159660.80</td>\n",
       "      <td>3</td>\n",
       "      <td>1</td>\n",
       "      <td>0</td>\n",
       "      <td>113931.57</td>\n",
       "      <td>1</td>\n",
       "    </tr>\n",
       "    <tr>\n",
       "      <th>3</th>\n",
       "      <td>15701354</td>\n",
       "      <td>Boni</td>\n",
       "      <td>699</td>\n",
       "      <td>France</td>\n",
       "      <td>Female</td>\n",
       "      <td>39</td>\n",
       "      <td>1</td>\n",
       "      <td>0.00</td>\n",
       "      <td>2</td>\n",
       "      <td>0</td>\n",
       "      <td>0</td>\n",
       "      <td>93826.63</td>\n",
       "      <td>0</td>\n",
       "    </tr>\n",
       "    <tr>\n",
       "      <th>4</th>\n",
       "      <td>15737888</td>\n",
       "      <td>Mitchell</td>\n",
       "      <td>850</td>\n",
       "      <td>Spain</td>\n",
       "      <td>Female</td>\n",
       "      <td>43</td>\n",
       "      <td>2</td>\n",
       "      <td>125510.82</td>\n",
       "      <td>1</td>\n",
       "      <td>1</td>\n",
       "      <td>1</td>\n",
       "      <td>79084.10</td>\n",
       "      <td>0</td>\n",
       "    </tr>\n",
       "  </tbody>\n",
       "</table>\n",
       "</div>"
      ],
      "text/plain": [
       "   CustomerId   Surname  CreditScore Geography  Gender  Age  Tenure   Balance  \\\n",
       "0    15634602  Hargrave          619    France  Female   42       2      0.00   \n",
       "1    15647311      Hill          608     Spain  Female   41       1  83807.86   \n",
       "2    15619304      Onio          502    France  Female   42       8 159660.80   \n",
       "3    15701354      Boni          699    France  Female   39       1      0.00   \n",
       "4    15737888  Mitchell          850     Spain  Female   43       2 125510.82   \n",
       "\n",
       "   NumOfProducts  HasCrCard  IsActiveMember  EstimatedSalary  Exited  \n",
       "0              1          1               1        101348.88       1  \n",
       "1              1          0               1        112542.58       0  \n",
       "2              3          1               0        113931.57       1  \n",
       "3              2          0               0         93826.63       0  \n",
       "4              1          1               1         79084.10       0  "
      ]
     },
     "execution_count": 4,
     "metadata": {},
     "output_type": "execute_result"
    }
   ],
   "source": [
    "df = df.drop('RowNumber', axis = 1)\n",
    "df.head()"
   ]
  },
  {
   "cell_type": "markdown",
   "id": "e7022293",
   "metadata": {},
   "source": [
    "- ## Resumo estatístico"
   ]
  },
  {
   "cell_type": "code",
   "execution_count": 5,
   "id": "06ad4c3e",
   "metadata": {},
   "outputs": [
    {
     "data": {
      "text/html": [
       "<div>\n",
       "<style scoped>\n",
       "    .dataframe tbody tr th:only-of-type {\n",
       "        vertical-align: middle;\n",
       "    }\n",
       "\n",
       "    .dataframe tbody tr th {\n",
       "        vertical-align: top;\n",
       "    }\n",
       "\n",
       "    .dataframe thead th {\n",
       "        text-align: right;\n",
       "    }\n",
       "</style>\n",
       "<table border=\"1\" class=\"dataframe\">\n",
       "  <thead>\n",
       "    <tr style=\"text-align: right;\">\n",
       "      <th></th>\n",
       "      <th>CustomerId</th>\n",
       "      <th>CreditScore</th>\n",
       "      <th>Age</th>\n",
       "      <th>Tenure</th>\n",
       "      <th>Balance</th>\n",
       "      <th>NumOfProducts</th>\n",
       "      <th>HasCrCard</th>\n",
       "      <th>IsActiveMember</th>\n",
       "      <th>EstimatedSalary</th>\n",
       "      <th>Exited</th>\n",
       "    </tr>\n",
       "  </thead>\n",
       "  <tbody>\n",
       "    <tr>\n",
       "      <th>count</th>\n",
       "      <td>10000.00</td>\n",
       "      <td>10000.00</td>\n",
       "      <td>10000.00</td>\n",
       "      <td>10000.00</td>\n",
       "      <td>10000.00</td>\n",
       "      <td>10000.00</td>\n",
       "      <td>10000.00</td>\n",
       "      <td>10000.00</td>\n",
       "      <td>10000.00</td>\n",
       "      <td>10000.00</td>\n",
       "    </tr>\n",
       "    <tr>\n",
       "      <th>mean</th>\n",
       "      <td>15690940.57</td>\n",
       "      <td>650.53</td>\n",
       "      <td>38.92</td>\n",
       "      <td>5.01</td>\n",
       "      <td>76485.89</td>\n",
       "      <td>1.53</td>\n",
       "      <td>0.71</td>\n",
       "      <td>0.52</td>\n",
       "      <td>100090.24</td>\n",
       "      <td>0.20</td>\n",
       "    </tr>\n",
       "    <tr>\n",
       "      <th>std</th>\n",
       "      <td>71936.19</td>\n",
       "      <td>96.65</td>\n",
       "      <td>10.49</td>\n",
       "      <td>2.89</td>\n",
       "      <td>62397.41</td>\n",
       "      <td>0.58</td>\n",
       "      <td>0.46</td>\n",
       "      <td>0.50</td>\n",
       "      <td>57510.49</td>\n",
       "      <td>0.40</td>\n",
       "    </tr>\n",
       "    <tr>\n",
       "      <th>min</th>\n",
       "      <td>15565701.00</td>\n",
       "      <td>350.00</td>\n",
       "      <td>18.00</td>\n",
       "      <td>0.00</td>\n",
       "      <td>0.00</td>\n",
       "      <td>1.00</td>\n",
       "      <td>0.00</td>\n",
       "      <td>0.00</td>\n",
       "      <td>11.58</td>\n",
       "      <td>0.00</td>\n",
       "    </tr>\n",
       "    <tr>\n",
       "      <th>25%</th>\n",
       "      <td>15628528.25</td>\n",
       "      <td>584.00</td>\n",
       "      <td>32.00</td>\n",
       "      <td>3.00</td>\n",
       "      <td>0.00</td>\n",
       "      <td>1.00</td>\n",
       "      <td>0.00</td>\n",
       "      <td>0.00</td>\n",
       "      <td>51002.11</td>\n",
       "      <td>0.00</td>\n",
       "    </tr>\n",
       "    <tr>\n",
       "      <th>50%</th>\n",
       "      <td>15690738.00</td>\n",
       "      <td>652.00</td>\n",
       "      <td>37.00</td>\n",
       "      <td>5.00</td>\n",
       "      <td>97198.54</td>\n",
       "      <td>1.00</td>\n",
       "      <td>1.00</td>\n",
       "      <td>1.00</td>\n",
       "      <td>100193.91</td>\n",
       "      <td>0.00</td>\n",
       "    </tr>\n",
       "    <tr>\n",
       "      <th>75%</th>\n",
       "      <td>15753233.75</td>\n",
       "      <td>718.00</td>\n",
       "      <td>44.00</td>\n",
       "      <td>7.00</td>\n",
       "      <td>127644.24</td>\n",
       "      <td>2.00</td>\n",
       "      <td>1.00</td>\n",
       "      <td>1.00</td>\n",
       "      <td>149388.25</td>\n",
       "      <td>0.00</td>\n",
       "    </tr>\n",
       "    <tr>\n",
       "      <th>max</th>\n",
       "      <td>15815690.00</td>\n",
       "      <td>850.00</td>\n",
       "      <td>92.00</td>\n",
       "      <td>10.00</td>\n",
       "      <td>250898.09</td>\n",
       "      <td>4.00</td>\n",
       "      <td>1.00</td>\n",
       "      <td>1.00</td>\n",
       "      <td>199992.48</td>\n",
       "      <td>1.00</td>\n",
       "    </tr>\n",
       "  </tbody>\n",
       "</table>\n",
       "</div>"
      ],
      "text/plain": [
       "       CustomerId  CreditScore      Age   Tenure   Balance  NumOfProducts  \\\n",
       "count    10000.00     10000.00 10000.00 10000.00  10000.00       10000.00   \n",
       "mean  15690940.57       650.53    38.92     5.01  76485.89           1.53   \n",
       "std      71936.19        96.65    10.49     2.89  62397.41           0.58   \n",
       "min   15565701.00       350.00    18.00     0.00      0.00           1.00   \n",
       "25%   15628528.25       584.00    32.00     3.00      0.00           1.00   \n",
       "50%   15690738.00       652.00    37.00     5.00  97198.54           1.00   \n",
       "75%   15753233.75       718.00    44.00     7.00 127644.24           2.00   \n",
       "max   15815690.00       850.00    92.00    10.00 250898.09           4.00   \n",
       "\n",
       "       HasCrCard  IsActiveMember  EstimatedSalary   Exited  \n",
       "count   10000.00        10000.00         10000.00 10000.00  \n",
       "mean        0.71            0.52        100090.24     0.20  \n",
       "std         0.46            0.50         57510.49     0.40  \n",
       "min         0.00            0.00            11.58     0.00  \n",
       "25%         0.00            0.00         51002.11     0.00  \n",
       "50%         1.00            1.00        100193.91     0.00  \n",
       "75%         1.00            1.00        149388.25     0.00  \n",
       "max         1.00            1.00        199992.48     1.00  "
      ]
     },
     "execution_count": 5,
     "metadata": {},
     "output_type": "execute_result"
    }
   ],
   "source": [
    "df.describe()"
   ]
  },
  {
   "cell_type": "markdown",
   "id": "b8bc0a26",
   "metadata": {},
   "source": [
    "- O cálculo mostra que 20% dos clientes do Top Bank saem do banco, podemos agrupar os dados pelos recursos para explorar o principal motivo desta causa."
   ]
  },
  {
   "cell_type": "code",
   "execution_count": 6,
   "id": "1281a0dc",
   "metadata": {},
   "outputs": [
    {
     "data": {
      "text/html": [
       "<div>\n",
       "<style scoped>\n",
       "    .dataframe tbody tr th:only-of-type {\n",
       "        vertical-align: middle;\n",
       "    }\n",
       "\n",
       "    .dataframe tbody tr th {\n",
       "        vertical-align: top;\n",
       "    }\n",
       "\n",
       "    .dataframe thead th {\n",
       "        text-align: right;\n",
       "    }\n",
       "</style>\n",
       "<table border=\"1\" class=\"dataframe\">\n",
       "  <thead>\n",
       "    <tr style=\"text-align: right;\">\n",
       "      <th></th>\n",
       "      <th>Surname</th>\n",
       "      <th>Geography</th>\n",
       "      <th>Gender</th>\n",
       "    </tr>\n",
       "  </thead>\n",
       "  <tbody>\n",
       "    <tr>\n",
       "      <th>count</th>\n",
       "      <td>10000</td>\n",
       "      <td>10000</td>\n",
       "      <td>10000</td>\n",
       "    </tr>\n",
       "    <tr>\n",
       "      <th>unique</th>\n",
       "      <td>2932</td>\n",
       "      <td>3</td>\n",
       "      <td>2</td>\n",
       "    </tr>\n",
       "    <tr>\n",
       "      <th>top</th>\n",
       "      <td>Smith</td>\n",
       "      <td>France</td>\n",
       "      <td>Male</td>\n",
       "    </tr>\n",
       "    <tr>\n",
       "      <th>freq</th>\n",
       "      <td>32</td>\n",
       "      <td>5014</td>\n",
       "      <td>5457</td>\n",
       "    </tr>\n",
       "  </tbody>\n",
       "</table>\n",
       "</div>"
      ],
      "text/plain": [
       "       Surname Geography Gender\n",
       "count    10000     10000  10000\n",
       "unique    2932         3      2\n",
       "top      Smith    France   Male\n",
       "freq        32      5014   5457"
      ]
     },
     "execution_count": 6,
     "metadata": {},
     "output_type": "execute_result"
    }
   ],
   "source": [
    "df.describe(include = ['O'])"
   ]
  },
  {
   "cell_type": "markdown",
   "id": "048a4494",
   "metadata": {},
   "source": [
    "- ## Colunas Categóricas e Númericas"
   ]
  },
  {
   "cell_type": "code",
   "execution_count": 7,
   "id": "dd0d6749",
   "metadata": {},
   "outputs": [
    {
     "name": "stdout",
     "output_type": "stream",
     "text": [
      "Colunas numéricas:  ['CustomerId', 'CreditScore', 'Age', 'Tenure', 'Balance', 'NumOfProducts', 'HasCrCard', 'IsActiveMember', 'EstimatedSalary', 'Exited'] \n",
      "\n",
      "Colunas categóricas:  ['Surname', 'Geography', 'Gender']\n"
     ]
    }
   ],
   "source": [
    "def colCatNum(data):\n",
    "    num = []\n",
    "    cat = []\n",
    "    for i in data.columns:\n",
    "        if data[i].dtype == 'object':\n",
    "            cat.append(i)\n",
    "        else:\n",
    "            num.append(i)\n",
    "    return num, cat\n",
    "\n",
    "num, cat = colCatNum(df)\n",
    "\n",
    "print('Colunas numéricas: ', num,'\\n')\n",
    "print('Colunas categóricas: ', cat)"
   ]
  },
  {
   "cell_type": "markdown",
   "id": "0f18f988",
   "metadata": {},
   "source": [
    "- ## Vamos fazer uma análise com base em Exited, separando os dados nos que estão e os que não estão em CHURN."
   ]
  },
  {
   "cell_type": "code",
   "execution_count": 8,
   "id": "955e7503",
   "metadata": {},
   "outputs": [
    {
     "data": {
      "text/plain": [
       "1    2037\n",
       "Name: Exited, dtype: int64"
      ]
     },
     "execution_count": 8,
     "metadata": {},
     "output_type": "execute_result"
    }
   ],
   "source": [
    "exited = df.loc[df['Exited'] == 1]\n",
    "exited['Exited'].value_counts()"
   ]
  },
  {
   "cell_type": "code",
   "execution_count": 9,
   "id": "437a472a",
   "metadata": {},
   "outputs": [
    {
     "data": {
      "text/plain": [
       "0    7963\n",
       "Name: Exited, dtype: int64"
      ]
     },
     "execution_count": 9,
     "metadata": {},
     "output_type": "execute_result"
    }
   ],
   "source": [
    "stayed = df.loc[df['Exited'] == 0]\n",
    "stayed['Exited'].value_counts()"
   ]
  },
  {
   "cell_type": "code",
   "execution_count": 10,
   "id": "a59c2da7",
   "metadata": {},
   "outputs": [
    {
     "data": {
      "image/png": "[encoded data removed]",
      "text/plain": [
       "<Figure size 720x360 with 1 Axes>"
      ]
     },
     "metadata": {
      "needs_background": "light"
     },
     "output_type": "display_data"
    }
   ],
   "source": [
    "def churnBar(features):\n",
    "    exited = df[df['Exited'] == 1][features].value_counts()\n",
    "    stayed = df[df['Exited'] == 0][features].value_counts()\n",
    "    dfChurnBar = pd.DataFrame([exited,stayed])\n",
    "    dfChurnBar.index = ['Exited','Stayed']\n",
    "    dfChurnBar.plot(kind = 'bar', stacked = True, figsize = (10,5))\n",
    "\n",
    "churnBar('Exited')"
   ]
  },
  {
   "cell_type": "code",
   "execution_count": 11,
   "id": "c3d21a90",
   "metadata": {},
   "outputs": [],
   "source": [
    "df_credit = df\n",
    "def createCredCat(x):\n",
    "    if x <= 350:\n",
    "        return 0\n",
    "    elif x > 350 and x <= 450:\n",
    "        return 1\n",
    "    elif x > 450 and x <= 550:\n",
    "        return 2\n",
    "    elif x > 550 and x <= 650:\n",
    "        return 3\n",
    "    elif x > 650 and x <= 750:\n",
    "        return 4\n",
    "    else:\n",
    "        return 5\n",
    "\n",
    "df_credit['CredCat'] = df_credit['CreditScore'].apply(createCredCat)"
   ]
  },
  {
   "cell_type": "code",
   "execution_count": 12,
   "id": "8c79e3b7",
   "metadata": {},
   "outputs": [
    {
     "data": {
      "image/png": "[encoded data removed]",
      "text/plain": [
       "<Figure size 720x360 with 1 Axes>"
      ]
     },
     "metadata": {
      "needs_background": "light"
     },
     "output_type": "display_data"
    }
   ],
   "source": [
    "churnBar('CredCat')"
   ]
  },
  {
   "cell_type": "code",
   "execution_count": 13,
   "id": "ad758a39",
   "metadata": {},
   "outputs": [
    {
     "data": {
      "text/html": [
       "<div>\n",
       "<style scoped>\n",
       "    .dataframe tbody tr th:only-of-type {\n",
       "        vertical-align: middle;\n",
       "    }\n",
       "\n",
       "    .dataframe tbody tr th {\n",
       "        vertical-align: top;\n",
       "    }\n",
       "\n",
       "    .dataframe thead th {\n",
       "        text-align: right;\n",
       "    }\n",
       "</style>\n",
       "<table border=\"1\" class=\"dataframe\">\n",
       "  <thead>\n",
       "    <tr style=\"text-align: right;\">\n",
       "      <th></th>\n",
       "      <th>CustomerId</th>\n",
       "      <th>Surname</th>\n",
       "      <th>CreditScore</th>\n",
       "      <th>Geography</th>\n",
       "      <th>Gender</th>\n",
       "      <th>Age</th>\n",
       "      <th>Tenure</th>\n",
       "      <th>Balance</th>\n",
       "      <th>NumOfProducts</th>\n",
       "      <th>HasCrCard</th>\n",
       "      <th>IsActiveMember</th>\n",
       "      <th>EstimatedSalary</th>\n",
       "      <th>Exited</th>\n",
       "      <th>CredCat</th>\n",
       "    </tr>\n",
       "  </thead>\n",
       "  <tbody>\n",
       "    <tr>\n",
       "      <th>0</th>\n",
       "      <td>15634602</td>\n",
       "      <td>Hargrave</td>\n",
       "      <td>619</td>\n",
       "      <td>1</td>\n",
       "      <td>Female</td>\n",
       "      <td>42</td>\n",
       "      <td>2</td>\n",
       "      <td>0.00</td>\n",
       "      <td>1</td>\n",
       "      <td>1</td>\n",
       "      <td>1</td>\n",
       "      <td>101348.88</td>\n",
       "      <td>1</td>\n",
       "      <td>3</td>\n",
       "    </tr>\n",
       "    <tr>\n",
       "      <th>1</th>\n",
       "      <td>15647311</td>\n",
       "      <td>Hill</td>\n",
       "      <td>608</td>\n",
       "      <td>2</td>\n",
       "      <td>Female</td>\n",
       "      <td>41</td>\n",
       "      <td>1</td>\n",
       "      <td>83807.86</td>\n",
       "      <td>1</td>\n",
       "      <td>0</td>\n",
       "      <td>1</td>\n",
       "      <td>112542.58</td>\n",
       "      <td>0</td>\n",
       "      <td>3</td>\n",
       "    </tr>\n",
       "    <tr>\n",
       "      <th>2</th>\n",
       "      <td>15619304</td>\n",
       "      <td>Onio</td>\n",
       "      <td>502</td>\n",
       "      <td>1</td>\n",
       "      <td>Female</td>\n",
       "      <td>42</td>\n",
       "      <td>8</td>\n",
       "      <td>159660.80</td>\n",
       "      <td>3</td>\n",
       "      <td>1</td>\n",
       "      <td>0</td>\n",
       "      <td>113931.57</td>\n",
       "      <td>1</td>\n",
       "      <td>2</td>\n",
       "    </tr>\n",
       "    <tr>\n",
       "      <th>3</th>\n",
       "      <td>15701354</td>\n",
       "      <td>Boni</td>\n",
       "      <td>699</td>\n",
       "      <td>1</td>\n",
       "      <td>Female</td>\n",
       "      <td>39</td>\n",
       "      <td>1</td>\n",
       "      <td>0.00</td>\n",
       "      <td>2</td>\n",
       "      <td>0</td>\n",
       "      <td>0</td>\n",
       "      <td>93826.63</td>\n",
       "      <td>0</td>\n",
       "      <td>4</td>\n",
       "    </tr>\n",
       "    <tr>\n",
       "      <th>4</th>\n",
       "      <td>15737888</td>\n",
       "      <td>Mitchell</td>\n",
       "      <td>850</td>\n",
       "      <td>2</td>\n",
       "      <td>Female</td>\n",
       "      <td>43</td>\n",
       "      <td>2</td>\n",
       "      <td>125510.82</td>\n",
       "      <td>1</td>\n",
       "      <td>1</td>\n",
       "      <td>1</td>\n",
       "      <td>79084.10</td>\n",
       "      <td>0</td>\n",
       "      <td>5</td>\n",
       "    </tr>\n",
       "  </tbody>\n",
       "</table>\n",
       "</div>"
      ],
      "text/plain": [
       "   CustomerId   Surname  CreditScore  Geography  Gender  Age  Tenure  \\\n",
       "0    15634602  Hargrave          619          1  Female   42       2   \n",
       "1    15647311      Hill          608          2  Female   41       1   \n",
       "2    15619304      Onio          502          1  Female   42       8   \n",
       "3    15701354      Boni          699          1  Female   39       1   \n",
       "4    15737888  Mitchell          850          2  Female   43       2   \n",
       "\n",
       "    Balance  NumOfProducts  HasCrCard  IsActiveMember  EstimatedSalary  \\\n",
       "0      0.00              1          1               1        101348.88   \n",
       "1  83807.86              1          0               1        112542.58   \n",
       "2 159660.80              3          1               0        113931.57   \n",
       "3      0.00              2          0               0         93826.63   \n",
       "4 125510.82              1          1               1         79084.10   \n",
       "\n",
       "   Exited  CredCat  \n",
       "0       1        3  \n",
       "1       0        3  \n",
       "2       1        2  \n",
       "3       0        4  \n",
       "4       0        5  "
      ]
     },
     "execution_count": 13,
     "metadata": {},
     "output_type": "execute_result"
    },
    {
     "data": {
      "image/png": "[encoded data removed]",
      "text/plain": [
       "<Figure size 720x360 with 1 Axes>"
      ]
     },
     "metadata": {
      "needs_background": "light"
     },
     "output_type": "display_data"
    }
   ],
   "source": [
    "geoToNumber = {'France':1, 'Spain':2, 'Germany':3}\n",
    "df['Geography'] = [geoToNumber[item] for item in df['Geography']]\n",
    "churnBar('Geography')\n",
    "df.head()"
   ]
  },
  {
   "cell_type": "code",
   "execution_count": 14,
   "id": "0411bccf",
   "metadata": {},
   "outputs": [],
   "source": [
    "genderToNumber = {'Male':0, 'Female':1}\n",
    "df['Gender'] = [genderToNumber[item] for item in df['Gender']]"
   ]
  },
  {
   "cell_type": "code",
   "execution_count": 15,
   "id": "98249687",
   "metadata": {},
   "outputs": [
    {
     "data": {
      "image/png": "[encoded data removed]",
      "text/plain": [
       "<Figure size 720x360 with 1 Axes>"
      ]
     },
     "metadata": {
      "needs_background": "light"
     },
     "output_type": "display_data"
    }
   ],
   "source": [
    "churnBar('Gender')"
   ]
  },
  {
   "cell_type": "code",
   "execution_count": 16,
   "id": "56312ee0",
   "metadata": {},
   "outputs": [],
   "source": [
    "df_age = df\n",
    "def createAgeCat(x):\n",
    "    if x <= 20:\n",
    "        return 0\n",
    "    elif x > 20 and x <= 30:\n",
    "        return 1\n",
    "    elif x > 30 and x <= 40:\n",
    "        return 2\n",
    "    elif x > 40 and x <= 50:\n",
    "        return 3\n",
    "    elif x > 50 and x <= 60:\n",
    "        return 4\n",
    "    elif x > 60 and x <= 70:\n",
    "        return 5\n",
    "    else: \n",
    "        return 6\n",
    "df_age['AgeCat'] = df_age['Age'].apply(createAgeCat)"
   ]
  },
  {
   "cell_type": "code",
   "execution_count": 17,
   "id": "c8932059",
   "metadata": {
    "scrolled": true
   },
   "outputs": [
    {
     "data": {
      "image/png": "[encoded data removed]",
      "text/plain": [
       "<Figure size 720x360 with 1 Axes>"
      ]
     },
     "metadata": {
      "needs_background": "light"
     },
     "output_type": "display_data"
    }
   ],
   "source": [
    "churnBar('AgeCat')"
   ]
  },
  {
   "cell_type": "code",
   "execution_count": 18,
   "id": "7c26e77f",
   "metadata": {},
   "outputs": [],
   "source": [
    "df_tenure = df\n",
    "def createTenureCat(x):\n",
    "    if x <= 3:\n",
    "        return 0\n",
    "    elif x > 3 and x <= 6:\n",
    "        return 1\n",
    "    elif x > 6 and x <= 9:\n",
    "        return 2\n",
    "    else:\n",
    "        return 3\n",
    "df_tenure['Tenure'] = df_tenure['Tenure'].apply(createTenureCat)"
   ]
  },
  {
   "cell_type": "code",
   "execution_count": 19,
   "id": "d896dbca",
   "metadata": {},
   "outputs": [
    {
     "data": {
      "image/png": "[encoded data removed]",
      "text/plain": [
       "<Figure size 720x360 with 1 Axes>"
      ]
     },
     "metadata": {
      "needs_background": "light"
     },
     "output_type": "display_data"
    }
   ],
   "source": [
    "churnBar('Tenure')"
   ]
  },
  {
   "cell_type": "code",
   "execution_count": 20,
   "id": "5ad30315",
   "metadata": {},
   "outputs": [
    {
     "data": {
      "text/html": [
       "<div>\n",
       "<style scoped>\n",
       "    .dataframe tbody tr th:only-of-type {\n",
       "        vertical-align: middle;\n",
       "    }\n",
       "\n",
       "    .dataframe tbody tr th {\n",
       "        vertical-align: top;\n",
       "    }\n",
       "\n",
       "    .dataframe thead th {\n",
       "        text-align: right;\n",
       "    }\n",
       "</style>\n",
       "<table border=\"1\" class=\"dataframe\">\n",
       "  <thead>\n",
       "    <tr style=\"text-align: right;\">\n",
       "      <th></th>\n",
       "      <th>CustomerId</th>\n",
       "      <th>Balance</th>\n",
       "    </tr>\n",
       "  </thead>\n",
       "  <tbody>\n",
       "    <tr>\n",
       "      <th>2092</th>\n",
       "      <td>15757408</td>\n",
       "      <td>250898.09</td>\n",
       "    </tr>\n",
       "    <tr>\n",
       "      <th>3280</th>\n",
       "      <td>15715622</td>\n",
       "      <td>238387.56</td>\n",
       "    </tr>\n",
       "    <tr>\n",
       "      <th>8733</th>\n",
       "      <td>15714241</td>\n",
       "      <td>222267.63</td>\n",
       "    </tr>\n",
       "    <tr>\n",
       "      <th>3588</th>\n",
       "      <td>15571958</td>\n",
       "      <td>221532.80</td>\n",
       "    </tr>\n",
       "    <tr>\n",
       "      <th>6717</th>\n",
       "      <td>15586674</td>\n",
       "      <td>216109.88</td>\n",
       "    </tr>\n",
       "    <tr>\n",
       "      <th>1067</th>\n",
       "      <td>15599131</td>\n",
       "      <td>214346.96</td>\n",
       "    </tr>\n",
       "    <tr>\n",
       "      <th>138</th>\n",
       "      <td>15594408</td>\n",
       "      <td>213146.20</td>\n",
       "    </tr>\n",
       "    <tr>\n",
       "      <th>1533</th>\n",
       "      <td>15769818</td>\n",
       "      <td>212778.20</td>\n",
       "    </tr>\n",
       "    <tr>\n",
       "      <th>3920</th>\n",
       "      <td>15620268</td>\n",
       "      <td>212696.32</td>\n",
       "    </tr>\n",
       "    <tr>\n",
       "      <th>2709</th>\n",
       "      <td>15780212</td>\n",
       "      <td>212692.97</td>\n",
       "    </tr>\n",
       "  </tbody>\n",
       "</table>\n",
       "</div>"
      ],
      "text/plain": [
       "      CustomerId   Balance\n",
       "2092    15757408 250898.09\n",
       "3280    15715622 238387.56\n",
       "8733    15714241 222267.63\n",
       "3588    15571958 221532.80\n",
       "6717    15586674 216109.88\n",
       "1067    15599131 214346.96\n",
       "138     15594408 213146.20\n",
       "1533    15769818 212778.20\n",
       "3920    15620268 212696.32\n",
       "2709    15780212 212692.97"
      ]
     },
     "execution_count": 20,
     "metadata": {},
     "output_type": "execute_result"
    }
   ],
   "source": [
    "df[['CustomerId','Balance']].sort_values('Balance',ascending=False).head(10)\n"
   ]
  },
  {
   "cell_type": "code",
   "execution_count": 21,
   "id": "3948c937",
   "metadata": {},
   "outputs": [],
   "source": [
    "df_Balance = df\n",
    "def createBalanceCat(x):\n",
    "    if x <= 50000:\n",
    "        return 0\n",
    "    elif x > 50000 and x <= 100000:\n",
    "        return 1\n",
    "    elif x > 100000 and x <= 150000:\n",
    "        return 2\n",
    "    elif x > 150000 and x <= 200000:\n",
    "        return 3\n",
    "    elif x > 200000 and x <= 250000:\n",
    "        return 4\n",
    "    else:\n",
    "        return 5\n",
    "df_Balance['BalanceCat'] = df_Balance['Balance'].apply(createBalanceCat)"
   ]
  },
  {
   "cell_type": "code",
   "execution_count": 22,
   "id": "7858750a",
   "metadata": {},
   "outputs": [
    {
     "data": {
      "image/png": "[encoded data removed]",
      "text/plain": [
       "<Figure size 720x360 with 1 Axes>"
      ]
     },
     "metadata": {
      "needs_background": "light"
     },
     "output_type": "display_data"
    }
   ],
   "source": [
    "churnBar('BalanceCat')"
   ]
  },
  {
   "cell_type": "code",
   "execution_count": 23,
   "id": "e635dd7e",
   "metadata": {},
   "outputs": [
    {
     "data": {
      "image/png": "[encoded data removed]",
      "text/plain": [
       "<Figure size 720x360 with 1 Axes>"
      ]
     },
     "metadata": {
      "needs_background": "light"
     },
     "output_type": "display_data"
    }
   ],
   "source": [
    "churnBar('NumOfProducts')"
   ]
  },
  {
   "cell_type": "code",
   "execution_count": 24,
   "id": "2c69c34c",
   "metadata": {},
   "outputs": [
    {
     "data": {
      "image/png": "[encoded data removed]",
      "text/plain": [
       "<Figure size 720x360 with 1 Axes>"
      ]
     },
     "metadata": {
      "needs_background": "light"
     },
     "output_type": "display_data"
    }
   ],
   "source": [
    "churnBar('HasCrCard')"
   ]
  },
  {
   "cell_type": "code",
   "execution_count": 25,
   "id": "5e285656",
   "metadata": {},
   "outputs": [
    {
     "data": {
      "image/png": "[encoded data removed]",
      "text/plain": [
       "<Figure size 720x360 with 1 Axes>"
      ]
     },
     "metadata": {
      "needs_background": "light"
     },
     "output_type": "display_data"
    }
   ],
   "source": [
    "churnBar('IsActiveMember')"
   ]
  },
  {
   "cell_type": "code",
   "execution_count": 26,
   "id": "ce65bb11",
   "metadata": {},
   "outputs": [],
   "source": [
    "df_Salary = df\n",
    "def createSalCat(x):\n",
    "    if x <= 50000:\n",
    "        return 0\n",
    "    elif x > 50000 and x <= 100000:\n",
    "        return 1\n",
    "    elif x > 100000 and x <= 150000:\n",
    "        return 2\n",
    "    else: \n",
    "        return 3\n",
    "df_Salary['SalCat'] = df_Salary['EstimatedSalary'].apply(createSalCat)\n",
    "\n"
   ]
  },
  {
   "cell_type": "code",
   "execution_count": 27,
   "id": "fcb3589e",
   "metadata": {},
   "outputs": [
    {
     "data": {
      "image/png": "[encoded data removed]",
      "text/plain": [
       "<Figure size 720x360 with 1 Axes>"
      ]
     },
     "metadata": {
      "needs_background": "light"
     },
     "output_type": "display_data"
    }
   ],
   "source": [
    "churnBar('SalCat')"
   ]
  },
  {
   "cell_type": "markdown",
   "id": "c18b7b7f",
   "metadata": {},
   "source": [
    "- ## MODELING"
   ]
  },
  {
   "cell_type": "code",
   "execution_count": 28,
   "id": "b7c89927",
   "metadata": {},
   "outputs": [
    {
     "data": {
      "text/html": [
       "<div>\n",
       "<style scoped>\n",
       "    .dataframe tbody tr th:only-of-type {\n",
       "        vertical-align: middle;\n",
       "    }\n",
       "\n",
       "    .dataframe tbody tr th {\n",
       "        vertical-align: top;\n",
       "    }\n",
       "\n",
       "    .dataframe thead th {\n",
       "        text-align: right;\n",
       "    }\n",
       "</style>\n",
       "<table border=\"1\" class=\"dataframe\">\n",
       "  <thead>\n",
       "    <tr style=\"text-align: right;\">\n",
       "      <th></th>\n",
       "      <th>Geography</th>\n",
       "      <th>Gender</th>\n",
       "      <th>Tenure</th>\n",
       "      <th>NumOfProducts</th>\n",
       "      <th>HasCrCard</th>\n",
       "      <th>IsActiveMember</th>\n",
       "      <th>Exited</th>\n",
       "      <th>CredCat</th>\n",
       "      <th>AgeCat</th>\n",
       "      <th>BalanceCat</th>\n",
       "      <th>SalCat</th>\n",
       "    </tr>\n",
       "  </thead>\n",
       "  <tbody>\n",
       "    <tr>\n",
       "      <th>0</th>\n",
       "      <td>1</td>\n",
       "      <td>1</td>\n",
       "      <td>0</td>\n",
       "      <td>1</td>\n",
       "      <td>1</td>\n",
       "      <td>1</td>\n",
       "      <td>1</td>\n",
       "      <td>3</td>\n",
       "      <td>3</td>\n",
       "      <td>0</td>\n",
       "      <td>2</td>\n",
       "    </tr>\n",
       "    <tr>\n",
       "      <th>1</th>\n",
       "      <td>2</td>\n",
       "      <td>1</td>\n",
       "      <td>0</td>\n",
       "      <td>1</td>\n",
       "      <td>0</td>\n",
       "      <td>1</td>\n",
       "      <td>0</td>\n",
       "      <td>3</td>\n",
       "      <td>3</td>\n",
       "      <td>1</td>\n",
       "      <td>2</td>\n",
       "    </tr>\n",
       "    <tr>\n",
       "      <th>2</th>\n",
       "      <td>1</td>\n",
       "      <td>1</td>\n",
       "      <td>2</td>\n",
       "      <td>3</td>\n",
       "      <td>1</td>\n",
       "      <td>0</td>\n",
       "      <td>1</td>\n",
       "      <td>2</td>\n",
       "      <td>3</td>\n",
       "      <td>3</td>\n",
       "      <td>2</td>\n",
       "    </tr>\n",
       "    <tr>\n",
       "      <th>3</th>\n",
       "      <td>1</td>\n",
       "      <td>1</td>\n",
       "      <td>0</td>\n",
       "      <td>2</td>\n",
       "      <td>0</td>\n",
       "      <td>0</td>\n",
       "      <td>0</td>\n",
       "      <td>4</td>\n",
       "      <td>2</td>\n",
       "      <td>0</td>\n",
       "      <td>1</td>\n",
       "    </tr>\n",
       "    <tr>\n",
       "      <th>4</th>\n",
       "      <td>2</td>\n",
       "      <td>1</td>\n",
       "      <td>0</td>\n",
       "      <td>1</td>\n",
       "      <td>1</td>\n",
       "      <td>1</td>\n",
       "      <td>0</td>\n",
       "      <td>5</td>\n",
       "      <td>3</td>\n",
       "      <td>2</td>\n",
       "      <td>1</td>\n",
       "    </tr>\n",
       "  </tbody>\n",
       "</table>\n",
       "</div>"
      ],
      "text/plain": [
       "   Geography  Gender  Tenure  NumOfProducts  HasCrCard  IsActiveMember  \\\n",
       "0          1       1       0              1          1               1   \n",
       "1          2       1       0              1          0               1   \n",
       "2          1       1       2              3          1               0   \n",
       "3          1       1       0              2          0               0   \n",
       "4          2       1       0              1          1               1   \n",
       "\n",
       "   Exited  CredCat  AgeCat  BalanceCat  SalCat  \n",
       "0       1        3       3           0       2  \n",
       "1       0        3       3           1       2  \n",
       "2       1        2       3           3       2  \n",
       "3       0        4       2           0       1  \n",
       "4       0        5       3           2       1  "
      ]
     },
     "execution_count": 28,
     "metadata": {},
     "output_type": "execute_result"
    }
   ],
   "source": [
    "df = df.drop(['CreditScore','Balance','EstimatedSalary','Surname','Age','CustomerId'], axis = 1)\n",
    "df.head()"
   ]
  },
  {
   "cell_type": "code",
   "execution_count": 31,
   "id": "5219b3b1",
   "metadata": {},
   "outputs": [
    {
     "data": {
      "text/plain": [
       "((10000, 10), (10000,))"
      ]
     },
     "execution_count": 31,
     "metadata": {},
     "output_type": "execute_result"
    }
   ],
   "source": [
    "y = df['Exited']\n",
    "X = df.drop(['Exited'], axis = 1)\n",
    "X.shape, y.shape"
   ]
  },
  {
   "cell_type": "code",
   "execution_count": 36,
   "id": "6cdc4a3a",
   "metadata": {},
   "outputs": [
    {
     "data": {
      "text/plain": [
       "((6000, 10), (6000,))"
      ]
     },
     "execution_count": 36,
     "metadata": {},
     "output_type": "execute_result"
    }
   ],
   "source": [
    "X_train, X_test, y_train, y_test = train_test_split(X, y, test_size = 0.4,\n",
    "                                                   random_state = 0)\n",
    "X_train.shape, y_train.shape"
   ]
  },
  {
   "cell_type": "markdown",
   "id": "4710aa7c",
   "metadata": {},
   "source": [
    "- ## K-Fold"
   ]
  },
  {
   "cell_type": "code",
   "execution_count": 37,
   "id": "cda74e7a",
   "metadata": {},
   "outputs": [],
   "source": [
    "k_fold = KFold(n_splits = 10, shuffle = True, random_state = 0)"
   ]
  },
  {
   "cell_type": "markdown",
   "id": "6d6c40fe",
   "metadata": {},
   "source": [
    "- ## KNN"
   ]
  },
  {
   "cell_type": "code",
   "execution_count": 38,
   "id": "f30a7788",
   "metadata": {},
   "outputs": [
    {
     "name": "stdout",
     "output_type": "stream",
     "text": [
      "[0.82       0.835      0.82       0.84       0.82833333 0.83333333\n",
      " 0.85       0.80333333 0.82833333 0.81      ]\n"
     ]
    }
   ],
   "source": [
    "clf = KNeighborsClassifier(n_neighbors = 13)\n",
    "scoring = 'accuracy'\n",
    "score = cross_val_score(clf, X_train, y_train, cv = k_fold, n_jobs = 1, \n",
    "                       scoring = scoring)\n",
    "print(score)"
   ]
  },
  {
   "cell_type": "markdown",
   "id": "4dfbb8ce",
   "metadata": {},
   "source": [
    "- KNN Score"
   ]
  },
  {
   "cell_type": "code",
   "execution_count": 39,
   "id": "61ee07ed",
   "metadata": {},
   "outputs": [
    {
     "data": {
      "text/plain": [
       "82.68"
      ]
     },
     "execution_count": 39,
     "metadata": {},
     "output_type": "execute_result"
    }
   ],
   "source": [
    "round(np.mean(score) * 100, 2)"
   ]
  },
  {
   "cell_type": "markdown",
   "id": "02e66e73",
   "metadata": {},
   "source": [
    "- ## Decision Tree"
   ]
  },
  {
   "cell_type": "code",
   "execution_count": 40,
   "id": "cdbcfef8",
   "metadata": {},
   "outputs": [
    {
     "name": "stdout",
     "output_type": "stream",
     "text": [
      "[0.77       0.805      0.78166667 0.78166667 0.79666667 0.775\n",
      " 0.80333333 0.80166667 0.79       0.77      ]\n"
     ]
    }
   ],
   "source": [
    "clf = DecisionTreeClassifier()\n",
    "scoring = 'accuracy'\n",
    "score = cross_val_score(clf, X_train, y_train, cv = k_fold, n_jobs = 1,\n",
    "                       scoring = scoring)\n",
    "print(score)"
   ]
  },
  {
   "cell_type": "markdown",
   "id": "81b18ac8",
   "metadata": {},
   "source": [
    "- Decision Tree Score"
   ]
  },
  {
   "cell_type": "code",
   "execution_count": 41,
   "id": "8565e818",
   "metadata": {},
   "outputs": [
    {
     "data": {
      "text/plain": [
       "78.75"
      ]
     },
     "execution_count": 41,
     "metadata": {},
     "output_type": "execute_result"
    }
   ],
   "source": [
    "round(np.mean(score) * 100, 2)"
   ]
  },
  {
   "cell_type": "markdown",
   "id": "cd823d66",
   "metadata": {},
   "source": [
    "- ## Random Forest"
   ]
  },
  {
   "cell_type": "code",
   "execution_count": 42,
   "id": "6b377ab2",
   "metadata": {},
   "outputs": [
    {
     "name": "stdout",
     "output_type": "stream",
     "text": [
      "[0.77333333 0.81       0.785      0.78666667 0.79166667 0.77833333\n",
      " 0.79666667 0.80333333 0.79       0.76333333]\n"
     ]
    }
   ],
   "source": [
    "scoring = 'accuracy'\n",
    "score = cross_val_score(clf, X_train, y_train, cv = k_fold, n_jobs = 1,\n",
    "                       scoring = scoring)\n",
    "print(score)"
   ]
  },
  {
   "cell_type": "markdown",
   "id": "a44c0a41",
   "metadata": {},
   "source": [
    "- Random Forest Score"
   ]
  },
  {
   "cell_type": "code",
   "execution_count": 43,
   "id": "f24b3a2d",
   "metadata": {},
   "outputs": [
    {
     "data": {
      "text/plain": [
       "78.78"
      ]
     },
     "execution_count": 43,
     "metadata": {},
     "output_type": "execute_result"
    }
   ],
   "source": [
    "round(np.mean(score) * 100, 2)"
   ]
  },
  {
   "cell_type": "markdown",
   "id": "07fa53ad",
   "metadata": {},
   "source": [
    "- ## Naive Bayes"
   ]
  },
  {
   "cell_type": "code",
   "execution_count": 44,
   "id": "28dc6098",
   "metadata": {},
   "outputs": [
    {
     "name": "stdout",
     "output_type": "stream",
     "text": [
      "[0.805      0.85166667 0.82333333 0.83166667 0.83       0.81166667\n",
      " 0.84333333 0.83166667 0.81666667 0.81666667]\n"
     ]
    }
   ],
   "source": [
    "clf = GaussianNB()\n",
    "scoring = 'accuracy'\n",
    "score = cross_val_score(clf, X_train, y_train, cv = k_fold, n_jobs = 1,\n",
    "                       scoring = scoring)\n",
    "print(score)"
   ]
  },
  {
   "cell_type": "markdown",
   "id": "1183be3d",
   "metadata": {},
   "source": [
    "- Naive Bayes Score"
   ]
  },
  {
   "cell_type": "code",
   "execution_count": 45,
   "id": "6276f6ee",
   "metadata": {},
   "outputs": [
    {
     "data": {
      "text/plain": [
       "82.62"
      ]
     },
     "execution_count": 45,
     "metadata": {},
     "output_type": "execute_result"
    }
   ],
   "source": [
    "round(np.mean(score) * 100, 2)"
   ]
  },
  {
   "cell_type": "markdown",
   "id": "fd16c910",
   "metadata": {},
   "source": [
    "- ## SVM"
   ]
  },
  {
   "cell_type": "code",
   "execution_count": 46,
   "id": "b2135b92",
   "metadata": {},
   "outputs": [
    {
     "name": "stdout",
     "output_type": "stream",
     "text": [
      "[0.82666667 0.84833333 0.85333333 0.84833333 0.84166667 0.83666667\n",
      " 0.85833333 0.83166667 0.83166667 0.83833333]\n"
     ]
    }
   ],
   "source": [
    "clf = SVC()\n",
    "scoring = 'accuracy'\n",
    "score = cross_val_score(clf, X_train, y_train, cv = k_fold, n_jobs = 1,\n",
    "                       scoring = scoring)\n",
    "print(score)"
   ]
  },
  {
   "cell_type": "markdown",
   "id": "68e117d5",
   "metadata": {},
   "source": [
    "- SVM Score"
   ]
  },
  {
   "cell_type": "code",
   "execution_count": 47,
   "id": "7ffa21f5",
   "metadata": {},
   "outputs": [
    {
     "data": {
      "text/plain": [
       "84.15"
      ]
     },
     "execution_count": 47,
     "metadata": {},
     "output_type": "execute_result"
    }
   ],
   "source": [
    "round(np.mean(score) * 100, 2)"
   ]
  },
  {
   "cell_type": "markdown",
   "id": "a4d39fb8",
   "metadata": {},
   "source": [
    "- O classificador SVM (SUpport Vector Machine) dá a melhor pontuação de 84,15. Vou usá-lo para testar o conjunto de dados de teste."
   ]
  },
  {
   "cell_type": "markdown",
   "id": "ad2894ec",
   "metadata": {},
   "source": [
    "- ## Test"
   ]
  },
  {
   "cell_type": "code",
   "execution_count": 50,
   "id": "9900cde4",
   "metadata": {},
   "outputs": [],
   "source": [
    "clf = SVC()\n",
    "clf.fit(X_train, y_train)\n",
    "prediction = clf.predict(X_test)"
   ]
  },
  {
   "cell_type": "code",
   "execution_count": 51,
   "id": "6670e4a6",
   "metadata": {},
   "outputs": [
    {
     "name": "stdout",
     "output_type": "stream",
     "text": [
      "Accuracy: : 84.72%\n"
     ]
    }
   ],
   "source": [
    "print('%s: %.2f%%' % ('Accuracy: ', (clf.score(X_test, y_test)) * 100))"
   ]
  },
  {
   "cell_type": "markdown",
   "id": "bfb6ffed",
   "metadata": {},
   "source": [
    "- ## Conclusão\n",
    "\n",
    "- Durante a análise exploratória dos dados, descobri que os clientes do sexo feminino são as mais propensas a abandono, os clientes que estão localizados na Alemanha são os mais rotulados e também os clientes que usam apenas um produto são os mais rotulados.\n",
    "\n",
    "- Depois de construir vários modelos, terminei escolhendo o SVM onde teve o melhor desempenho do que os outros."
   ]
  },
  {
   "cell_type": "code",
   "execution_count": null,
   "id": "952f8c63",
   "metadata": {},
   "outputs": [],
   "source": []
  }
 ],
 "metadata": {
  "kernelspec": {
   "display_name": "Python 3",
   "language": "python",
   "name": "python3"
  },
  "language_info": {
   "codemirror_mode": {
    "name": "ipython",
    "version": 3
   },
   "file_extension": ".py",
   "mimetype": "text/x-python",
   "name": "python",
   "nbconvert_exporter": "python",
   "pygments_lexer": "ipython3",
   "version": "3.8.8"
  }
 },
 "nbformat": 4,
 "nbformat_minor": 5
}
